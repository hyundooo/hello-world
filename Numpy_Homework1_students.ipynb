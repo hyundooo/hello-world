{
  "cells": [
    {
      "cell_type": "markdown",
      "metadata": {
        "id": "view-in-github",
        "colab_type": "text"
      },
      "source": [
        "<a href=\"https://colab.research.google.com/github/hyundooo/hello-world/blob/master/Numpy_Homework1_students.ipynb\" target=\"_parent\"><img src=\"https://colab.research.google.com/assets/colab-badge.svg\" alt=\"Open In Colab\"/></a>"
      ]
    },
    {
      "cell_type": "markdown",
      "metadata": {
        "id": "T6EwlXi_-KT0"
      },
      "source": [
        "# Homework 1 - Numpy"
      ]
    },
    {
      "cell_type": "markdown",
      "metadata": {
        "id": "v4z8vYId-KT2"
      },
      "source": [
        "For all the questions, print the results with a variable of your choice (e.g., Z)"
      ]
    },
    {
      "cell_type": "markdown",
      "metadata": {
        "id": "qVT1hXQm-KT3"
      },
      "source": [
        "#### 1. Import the numpy package under the name `np` "
      ]
    },
    {
      "cell_type": "code",
      "execution_count": null,
      "metadata": {
        "id": "SYMWCyAB-KT3"
      },
      "outputs": [],
      "source": [
        "erfawefwef"
      ]
    },
    {
      "cell_type": "markdown",
      "metadata": {
        "id": "hmqpdJ-7-KT4"
      },
      "source": [
        "#### 2. Create a vector with values ranging from 10 to 49 "
      ]
    },
    {
      "cell_type": "code",
      "execution_count": null,
      "metadata": {
        "id": "Bw5sEeo_-KT4"
      },
      "outputs": [],
      "source": []
    },
    {
      "cell_type": "markdown",
      "metadata": {
        "id": "naedRH3V-KT4"
      },
      "source": [
        "#### 3. Reverse a vector (first element becomes last) "
      ]
    },
    {
      "cell_type": "code",
      "execution_count": null,
      "metadata": {
        "id": "-vSt2iGf-KT5"
      },
      "outputs": [],
      "source": []
    },
    {
      "cell_type": "markdown",
      "metadata": {
        "id": "Yvwqebkn-KT5"
      },
      "source": [
        "#### 4. Create a 3x3 matrix with values ranging from 0 to 8 "
      ]
    },
    {
      "cell_type": "code",
      "execution_count": null,
      "metadata": {
        "id": "NHviimGA-KT5"
      },
      "outputs": [],
      "source": []
    },
    {
      "cell_type": "markdown",
      "metadata": {
        "id": "20H36i_a-KT5"
      },
      "source": [
        "#### 5. Find indices of non-zero elements from [1,2,0,0,4,0] "
      ]
    },
    {
      "cell_type": "code",
      "execution_count": null,
      "metadata": {
        "id": "rLuE5ULk-KT6"
      },
      "outputs": [],
      "source": []
    },
    {
      "cell_type": "markdown",
      "metadata": {
        "id": "diELiM1M-KT6"
      },
      "source": [
        "#### 6. Create a 3x3 identity matrix "
      ]
    },
    {
      "cell_type": "code",
      "execution_count": null,
      "metadata": {
        "id": "GXypDffe-KT6"
      },
      "outputs": [],
      "source": []
    },
    {
      "cell_type": "markdown",
      "metadata": {
        "id": "b6XLH6d6-KT6"
      },
      "source": [
        "#### 7. Create a 3x3x3 array with random values "
      ]
    },
    {
      "cell_type": "code",
      "execution_count": null,
      "metadata": {
        "id": "Wbn3RCLd-KT7"
      },
      "outputs": [],
      "source": []
    },
    {
      "cell_type": "markdown",
      "metadata": {
        "id": "3ywsI1le-KT7"
      },
      "source": [
        "#### 8. Create a 10x10 array with random values and find the minimum and maximum values "
      ]
    },
    {
      "cell_type": "code",
      "execution_count": null,
      "metadata": {
        "id": "hjl_l_CO-KT7"
      },
      "outputs": [],
      "source": []
    },
    {
      "cell_type": "markdown",
      "metadata": {
        "id": "fG3g3EwS-KT7"
      },
      "source": [
        "#### 9. Create a checkerboard 8x8 matrix using np.array([0,1],[1,0]) and the tile function  "
      ]
    },
    {
      "cell_type": "code",
      "execution_count": null,
      "metadata": {
        "id": "HFe1wMT1-KT7"
      },
      "outputs": [],
      "source": []
    },
    {
      "cell_type": "markdown",
      "metadata": {
        "id": "8blwTHre-KT7"
      },
      "source": [
        "#### 10. Multiply a 5x3 matrix by a 3x2 matrix (real matrix product) "
      ]
    },
    {
      "cell_type": "code",
      "execution_count": null,
      "metadata": {
        "id": "_VezmKdx-KT8"
      },
      "outputs": [],
      "source": []
    },
    {
      "cell_type": "markdown",
      "metadata": {
        "id": "Gx8qju-i-KT8"
      },
      "source": [
        "#### 11. Create a 5x5 matrix with row values ranging from 0 to 4 using tile function as follows:\n"
      ]
    },
    {
      "cell_type": "raw",
      "metadata": {
        "id": "UIvr_8Lh-KT8"
      },
      "source": [
        "array([[0, 1, 2, 3, 4],\n",
        "       [0, 1, 2, 3, 4],\n",
        "       [0, 1, 2, 3, 4],\n",
        "       [0, 1, 2, 3, 4],\n",
        "       [0, 1, 2, 3, 4]])"
      ]
    },
    {
      "cell_type": "code",
      "execution_count": null,
      "metadata": {
        "id": "5qYmHtH--KT8"
      },
      "outputs": [],
      "source": []
    },
    {
      "cell_type": "markdown",
      "metadata": {
        "id": "9DxfpVVm-KT8"
      },
      "source": [
        "#### 12. Create a 5x5 matrix with row values ranging from 0 to 4 using broadcasting\n"
      ]
    },
    {
      "cell_type": "code",
      "execution_count": null,
      "metadata": {
        "id": "6omI_Jk6-KT8"
      },
      "outputs": [],
      "source": []
    },
    {
      "cell_type": "markdown",
      "metadata": {
        "id": "Nv-ibceM-KT8"
      },
      "source": [
        "#### 13. Create a random vector of size 10 and sort it "
      ]
    },
    {
      "cell_type": "code",
      "execution_count": null,
      "metadata": {
        "id": "litaXzJA-KT8"
      },
      "outputs": [],
      "source": []
    },
    {
      "cell_type": "markdown",
      "metadata": {
        "id": "S36YOGDn-KT8"
      },
      "source": [
        "#### 14. Subtract the mean of each row\n",
        "\n",
        "X = np.random.rand(5,10)"
      ]
    },
    {
      "cell_type": "code",
      "execution_count": null,
      "metadata": {
        "id": "V0P_MBpO-KT9"
      },
      "outputs": [],
      "source": []
    },
    {
      "cell_type": "markdown",
      "metadata": {
        "id": "hNEC2bOu-KT9"
      },
      "source": [
        "#### 15. Create, 10 by 10 multiplication table from 1 to 10"
      ]
    },
    {
      "cell_type": "code",
      "execution_count": null,
      "metadata": {
        "id": "z0qtqyOs-KT9"
      },
      "outputs": [],
      "source": []
    },
    {
      "cell_type": "markdown",
      "metadata": {
        "id": "FJpxmElV-KT9"
      },
      "source": [
        "#### 16. How to get the diagonal of a dot product? \n",
        "\n",
        "A = np.random.uniform(0,1,(5,5))\n",
        "B = np.random.uniform(0,1,(5,5))"
      ]
    },
    {
      "cell_type": "code",
      "execution_count": null,
      "metadata": {
        "id": "69BQ1b_6-KT9"
      },
      "outputs": [],
      "source": []
    },
    {
      "cell_type": "markdown",
      "metadata": {
        "id": "R9J3uryj-KT9"
      },
      "source": [
        "#### 17. Consider the vector [1, 2, 3, 4, 5], how to build a new vector with 3 consecutive zeros interleaved between each value?"
      ]
    },
    {
      "cell_type": "code",
      "execution_count": null,
      "metadata": {
        "id": "kjkiqqsL-KT9"
      },
      "outputs": [],
      "source": []
    },
    {
      "cell_type": "markdown",
      "metadata": {
        "id": "Z4dsC8tu-KT9"
      },
      "source": [
        "#### 18. Consider two arrays A and B of shape (8,3) and (2,2). How to find rows of A that contain elements of each row of B regardless of the order of the elements in B?\n",
        "\n",
        "A = np.random.randint(0,5,(8,3))\n",
        "B = np.random.randint(0,5,(2,2))"
      ]
    },
    {
      "cell_type": "code",
      "execution_count": null,
      "metadata": {
        "id": "PJiSAKf9-KT9"
      },
      "outputs": [],
      "source": []
    },
    {
      "cell_type": "markdown",
      "metadata": {
        "id": "xs0t71Sk-KT-"
      },
      "source": [
        "#### 19. How to swap two rows of an array? Generate an array from 0 to 24, and reshape it 5 by 5 and swap first two rows of the array"
      ]
    },
    {
      "cell_type": "code",
      "execution_count": null,
      "metadata": {
        "id": "DPZ05BgF-KT-"
      },
      "outputs": [],
      "source": []
    },
    {
      "cell_type": "markdown",
      "metadata": {
        "id": "mxGhCblS-KT-"
      },
      "source": [
        "#### 20. How to find the most frequent value in an array? \n",
        "\n",
        "Z = np.random.randint(0,10,50). hint: np.bincount, np.argmax"
      ]
    },
    {
      "cell_type": "code",
      "execution_count": null,
      "metadata": {
        "id": "IAVBcGo1-KT-"
      },
      "outputs": [],
      "source": []
    },
    {
      "cell_type": "markdown",
      "metadata": {
        "id": "_aBcJ8ka-KT-"
      },
      "source": [
        "#### 21. How to get the n largest values of an array?\n",
        "\n",
        "start with \n",
        "Z = np.arange(10000);\n",
        "np.random.shuffle(Z)\n",
        ", Hint: np.argsort"
      ]
    },
    {
      "cell_type": "code",
      "execution_count": null,
      "metadata": {
        "id": "OeeXrFGY-KT-"
      },
      "outputs": [],
      "source": []
    },
    {
      "cell_type": "markdown",
      "metadata": {
        "id": "CWJPpZNI-KT-"
      },
      "source": [
        "#### 22. Given a two dimensional array, how to extract unique rows? \n",
        "\n",
        "Hint: np.unique"
      ]
    },
    {
      "cell_type": "code",
      "execution_count": null,
      "metadata": {
        "id": "ZSlW1kfj-KT_"
      },
      "outputs": [],
      "source": []
    },
    {
      "cell_type": "markdown",
      "metadata": {
        "id": "pLjmlPKi-KT_"
      },
      "source": [
        "#### 23. How to compute averages using a sliding window over an array? \n",
        "\n",
        "make a function with two arguments, arry and size of the sliding window, def moving_avg(arr, n)\n"
      ]
    },
    {
      "cell_type": "code",
      "execution_count": null,
      "metadata": {
        "id": "X_KybH9i-KT_"
      },
      "outputs": [],
      "source": []
    },
    {
      "cell_type": "markdown",
      "metadata": {
        "id": "PrmybAyR-KT_"
      },
      "source": [
        "#### 24. Find the indices of elements from 4 by 4 random matrix (0-1) which are larger than 0.5\n",
        "\n",
        "Print a list of tuples indicating the index for row and column\n"
      ]
    },
    {
      "cell_type": "code",
      "execution_count": null,
      "metadata": {
        "id": "j09N5Hua-KT_"
      },
      "outputs": [],
      "source": []
    },
    {
      "cell_type": "markdown",
      "metadata": {
        "id": "TrEQUGyH-KT_"
      },
      "source": [
        "#### 25. Write a function returning distance between two points"
      ]
    },
    {
      "cell_type": "raw",
      "metadata": {
        "id": "6ygFWl5a-KT_"
      },
      "source": [
        "Test the function to check whether function is working correctly\n",
        "Hint: There are two arguments of function indicating two points"
      ]
    },
    {
      "cell_type": "code",
      "execution_count": null,
      "metadata": {
        "id": "ZRKaG9Av-KT_"
      },
      "outputs": [],
      "source": []
    }
  ],
  "metadata": {
    "kernelspec": {
      "display_name": "Python 3",
      "language": "python",
      "name": "python3"
    },
    "language_info": {
      "codemirror_mode": {
        "name": "ipython",
        "version": 3
      },
      "file_extension": ".py",
      "mimetype": "text/x-python",
      "name": "python",
      "nbconvert_exporter": "python",
      "pygments_lexer": "ipython3",
      "version": "3.8.5"
    },
    "colab": {
      "provenance": [],
      "include_colab_link": true
    }
  },
  "nbformat": 4,
  "nbformat_minor": 0
}